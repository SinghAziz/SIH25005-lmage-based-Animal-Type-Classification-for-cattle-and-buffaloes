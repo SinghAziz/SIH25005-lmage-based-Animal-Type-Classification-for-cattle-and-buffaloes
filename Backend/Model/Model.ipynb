{
 "cells": [
  {
   "cell_type": "markdown",
   "id": "34b5830f",
   "metadata": {},
   "source": [
    "# Problem Statement:\n",
    "\n",
    "<h3>Problem Statement ID: 25005 </h3>\n",
    "\n",
    "<h3>Problem Statement Title: lmage based Animal Type Classification for cattle and buffaloes</h3>\n",
    "<h5>Description:</h5>\n",
    "<p>Background: In dairy farming, evaluating the body structure of animals is vital to predict their longevity, productivity, and reproductive efficiency. Traditionally, Animal Type Classification (ATC)—which involves scoring animals for physical traits—is conducted by trained personnel through visual inspection and manual measurement of specific body parts. However, this manual method is prone to human error and subjectivity, even with trained professionals, resulting in inconsistent and potentially unreliable data.\n",
    "\n",
    "With advances in Artificial Intelligence (AI) and image processing technologies, there is an opportunity to automate this process. Automated scoring based on images can ensure standardization, minimize observer bias, and improve the reliability of data captured for scientific and breeding purposes.\n",
    "\n",
    "Description: The Government of India is implementing the Rashtriya Gokul Mission (RGM) since December 2014, aiming to conserve and develop indigenous bovine breeds, genetically upgrade the bovine population, and enhance milk productivity. Under this mission, Progeny Testing (PT) and Pedigree Selection (PS) programs are being carried out in key dairy breeds across the country to produce high genetic merit bulls for breeding purposes.\n",
    "\n",
    "Animal Type Classification (ATC) is a crucial step in identifying top-performing elite dams, which are potential mothers of future breeding bulls. Currently, ATC is performed manually by a trained Animal Typer who visually examines and measures physical traits, and then records the scores in the Bharat Pashudhan App (BPA). Despite training, errors due to fatigue, bias, or measurement inaccuracies can adversely affect data quality and scientific analysis.\n",
    "\n",
    "There is a need for an AI-driven solution that can automate this classification process by analyzing animal images, extracting body structure parameters, and assigning standardized scores with minimal human intervention. If integrated with BPA, such a solution would enhance the accuracy, efficiency, and scientific validity of animal evaluation under PT and PS programs.</p>\n",
    "\n",
    "<h4>Expected Solution:</h4> Students are expected to develop an AI-based Auto Recording of Animal Type Classification System that can:\n",
    "\n",
    "1) Use images of cattle and buffaloes to evaluate physical traits relevant to Animal Type Classification.\n",
    "2) Extract and quantify specific body structure parameters (e.g., body length, height at withers, chest width, rump angle, etc.) using AI and image processing techniques.\n",
    "3) Generate objective and consistent classification scores.\n",
    "4) Auto-record and store the classification data in a structured format.\n",
    "5) Provide seamless integration with BPA to auto-save the classification records at the time of evaluation.\n",
    "6) Be user-friendly and operable by field personnel with minimal technical skills.\n",
    "</p>\n",
    "<h5>Organization:\tMinistry of Fisheries, Animal Husbandry & Dairying.<br>\n",
    "Department:\tDepartment of Animal Husbandry & Dairying (DoAH&D).<br>\n",
    "Category:\tSoftware.<br>\n",
    "Theme:\tAgriculture, FoodTech & Rural Development.</h5>"
   ]
  },
  {
   "cell_type": "markdown",
   "id": "6afb5123",
   "metadata": {},
   "source": [
    "# Objective\n",
    "\n",
    "<p> The objective of this project is to develop an AI-powered automated Animal Type Classification (ATC) system that can replace the traditional manual and subjective method of evaluating dairy animals with a standardized, image-based solution. By using artificial intelligence and image processing, the system will automatically extract and quantify key physical traits such as body length, height at withers, chest width, and rump angle, and generate objective classification scores with minimal human intervention. The solution aims to ensure accuracy, consistency, and efficiency in animal evaluation, reducing errors caused by fatigue, bias, or measurement inaccuracies. Furthermore, by integrating seamlessly with the Bharat Pashudhan App, the system will enable real-time recording and storage of classification data in a structured format, strengthening progeny testing and pedigree selection programs under the Rashtriya Gokul Mission. Ultimately, the project seeks to enhance the reliability of scientific data, support the identification of elite dams, and contribute to the long-term goal of conserving indigenous breeds and improving milk productivity in India. </p>"
   ]
  },
  {
   "cell_type": "markdown",
   "id": "d5b32789",
   "metadata": {},
   "source": [
    "# Project Description:\n",
    "\n",
    "<p>This project focuses on designing and developing an AI-based Auto Recording Animal Type Classification (ATC) System to modernize the evaluation of dairy cattle and buffaloes under the Rashtriya Gokul Mission. Currently, ATC is conducted manually by trained personnel who visually inspect animals and record scores in the Bharat Pashudhan App. However, this manual approach is prone to subjectivity, fatigue-related errors, and inconsistencies, which can compromise the quality of data critical for progeny testing and pedigree selection programs. The proposed solution will leverage artificial intelligence and image processing to analyze photographs of animals, extract measurable body parameters such as body length, height at withers, chest width, and rump angle, and generate standardized classification scores. The system will automatically record and store this data in structured form and integrate seamlessly with the Bharat Pashudhan App to ensure real-time, accurate, and bias-free evaluations. Designed to be simple and user-friendly, the solution will empower field personnel to carry out reliable assessments without requiring advanced technical skills. By providing a more efficient, objective, and scientifically valid method of classification, this project will directly support the selection of elite dams, aid in the production of high genetic merit bulls, and contribute to the conservation of indigenous breeds and enhancement of milk productivity across India. </p>"
   ]
  },
  {
   "cell_type": "markdown",
   "id": "30cc39c5",
   "metadata": {},
   "source": [
    "# Data Understanding\n",
    "All the libraries go hear for Data processing"
   ]
  },
  {
   "cell_type": "code",
   "execution_count": 1,
   "id": "638c9c61",
   "metadata": {},
   "outputs": [],
   "source": [
    "import os\n",
    "import shutil\n",
    "from sklearn.model_selection import train_test_split"
   ]
  },
  {
   "cell_type": "markdown",
   "id": "067c4b20",
   "metadata": {},
   "source": [
    "# Configuration\n",
    "\n",
    "Folder creation, Paths etc."
   ]
  },
  {
   "cell_type": "code",
   "execution_count": 2,
   "id": "c2e25586",
   "metadata": {},
   "outputs": [
    {
     "name": "stdout",
     "output_type": "stream",
     "text": [
      "Dataset path: /Users/aziz/Documents/GitHub/SIH25005-lmage-based-Animal-Type-Classification-for-cattle-and-buffaloes/Backend/Model/dataset/Indian_bovine_breeds\n",
      "Found 42 breeds: ['Vechur', 'Mehsana', 'Hallikar', 'Amritmahal', 'Kankrej', 'Sahiwal', '.DS_Store', 'Surti', 'Jersey', 'Pulikulam', 'Nagpuri', 'Nagori', 'Malnad_gidda', 'Dangi', 'Murrah', 'Jaffrabadi', 'Red_Dane', 'Krishna_Valley', 'Guernsey', 'Kherigarh', 'Rathi', 'Khillari', 'Bargur', 'Banni', 'Holstein_Friesian', 'Toda', 'Alambadi', 'Deoni', 'Kangayam', 'Kenkatha', 'Kasargod', 'Nimari', 'Tharparkar', 'Bhadawari', 'Ongole', 'Red_Sindhi', 'Hariana', 'Umblachery', 'Gir', 'Ayrshire', 'Brown_Swiss', 'Nili_Ravi']\n"
     ]
    }
   ],
   "source": [
    "import os\n",
    "\n",
    "# Get the absolute path to the current notebook's directory\n",
    "root_path = os.path.abspath(os.path.dirname(__file__)) if '__file__' in globals() else os.getcwd()\n",
    "\n",
    "# Build dataset path\n",
    "dataset_path = os.path.join(root_path, \"dataset\", \"Indian_bovine_breeds\")\n",
    "print(\"Dataset path:\", dataset_path)\n",
    "output_path = os.path.join(root_path, 'split')\n",
    "\n",
    "try:\n",
    "    breeds = os.listdir(dataset_path)\n",
    "    print(f\"Found {len(breeds)} breeds: {breeds}\")\n",
    "except FileNotFoundError:\n",
    "    print(f\"Dataset path not found: {dataset_path}\")\n"
   ]
  },
  {
   "cell_type": "markdown",
   "id": "51b37bd6",
   "metadata": {},
   "source": [
    "# Dataset Loading\n",
    "\n",
    "Prefer : 'try' and 'except'"
   ]
  },
  {
   "cell_type": "code",
   "execution_count": 3,
   "id": "8393de31",
   "metadata": {},
   "outputs": [
    {
     "name": "stdout",
     "output_type": "stream",
     "text": [
      "Split directory already exists. Skipping split_data() call\n"
     ]
    }
   ],
   "source": [
    "def split_data():\n",
    "    for breed in breeds:\n",
    "        breed_folder = os.path.join(dataset_path, breed)\n",
    "        images = os.listdir(breed_folder)\n",
    "        print(breed_folder)\n",
    "\n",
    "        training_images, validation_test_images = train_test_split(images, test_size=0.3, random_state=42)\n",
    "        validation_images, testing_images = train_test_split(validation_test_images, test_size=0.5, random_state=42)\n",
    "\n",
    "        for split, img_list in zip(['train', 'val', 'test'], [training_images, validation_images, testing_images]):\n",
    "            split_folder = os.path.join(output_path, split, breed)\n",
    "\n",
    "            os.makedirs(split_folder, exist_ok=True)\n",
    "\n",
    "            for img in img_list:\n",
    "                src = os.path.join(breed_folder, img)\n",
    "                dest = os.path.join(split_folder, img)\n",
    "                shutil.copy(src, dest)\n",
    "\n",
    "    print(\"Dataset has been split into train / val / test\")\n",
    "\n",
    "if not os.path.exists(output_path): \n",
    "    split_data()\n",
    "else:\n",
    "    print(\"Split directory already exists. Skipping split_data() call\")"
   ]
  },
  {
   "cell_type": "markdown",
   "id": "e461be87",
   "metadata": {},
   "source": [
    "# Data Preprocessing"
   ]
  },
  {
   "cell_type": "code",
   "execution_count": 4,
   "id": "d12a3b49",
   "metadata": {},
   "outputs": [],
   "source": [
    "# IMAGE LOADING & TRANSFORMATION\n",
    "import torch\n",
    "from torchvision import transforms\n",
    "\n",
    "IMAGE_SIZE = 224\n",
    "\n",
    "train_transforms = transforms.Compose([\n",
    "    transforms.Resize((IMAGE_SIZE, IMAGE_SIZE)),\n",
    "    transforms.RandomHorizontalFlip(), \n",
    "    transforms.RandomRotation(10),\n",
    "    transforms.ColorJitter(brightness=0.2, contrast=0.2, saturation=0.2),\n",
    "    transforms.ToTensor(),\n",
    "    transforms.Normalize([0.485, 0.456, 0.406], [0.229, 0.224, 0.225])\n",
    "])\n",
    "\n",
    "val_test_transforms = transforms.Compose([\n",
    "    transforms.Resize((IMAGE_SIZE, IMAGE_SIZE)),\n",
    "    transforms.ToTensor(), \n",
    "    transforms.Normalize([0.485, 0.456, 0.406], [0.229, 0.224, 0.225])\n",
    "])"
   ]
  },
  {
   "cell_type": "code",
   "execution_count": 5,
   "id": "b800e0c2",
   "metadata": {},
   "outputs": [],
   "source": [
    "# DATASETS & DATALOADERS\n",
    "\n",
    "from torchvision import datasets\n",
    "from torch.utils.data import DataLoader\n",
    "\n",
    "train_dataset = datasets.ImageFolder(os.path.join(output_path, \"train\"), transform=train_transforms)\n",
    "val_dataset = datasets.ImageFolder(os.path.join(output_path, \"val\"), transform=val_test_transforms)\n",
    "test_dataset = datasets.ImageFolder(os.path.join(output_path, \"test\"), transform=val_test_transforms)\n",
    "\n",
    "train_loader = DataLoader(train_dataset, batch_size=32, shuffle=True, num_workers=2)\n",
    "val_loader = DataLoader(val_dataset, batch_size=32, shuffle=False, num_workers=2)\n",
    "test_loader = DataLoader(test_dataset, batch_size=32, shuffle=False, num_workers=2)"
   ]
  },
  {
   "cell_type": "code",
   "execution_count": 6,
   "id": "000fa5bc",
   "metadata": {},
   "outputs": [
    {
     "name": "stdout",
     "output_type": "stream",
     "text": [
      "Classes: ['Alambadi', 'Amritmahal', 'Ayrshire', 'Banni', 'Bargur', 'Bhadawari', 'Brown_Swiss', 'Dangi', 'Deoni', 'Gir', 'Guernsey', 'Hallikar', 'Hariana', 'Holstein_Friesian', 'Jaffrabadi', 'Jersey', 'Kangayam', 'Kankrej', 'Kasargod', 'Kenkatha', 'Kherigarh', 'Khillari', 'Krishna_Valley', 'Malnad_gidda', 'Mehsana', 'Murrah', 'Nagori', 'Nagpuri', 'Nili_Ravi', 'Nimari', 'Ongole', 'Pulikulam', 'Rathi', 'Red_Dane', 'Red_Sindhi', 'Sahiwal', 'Surti', 'Tharparkar', 'Toda', 'Umblachery', 'Vechur']\n",
      "Train Size: 4134\n",
      "Val Size: 885\n",
      "Test Size: 908\n"
     ]
    }
   ],
   "source": [
    "# DATA QUALITY CHECK\n",
    "\n",
    "print(\"Classes:\", train_dataset.classes)\n",
    "print(\"Train Size:\", len(train_dataset))\n",
    "print(\"Val Size:\", len(val_dataset))\n",
    "print(\"Test Size:\", len(test_dataset))"
   ]
  },
  {
   "cell_type": "code",
   "execution_count": 7,
   "id": "d2ea33d5",
   "metadata": {},
   "outputs": [
    {
     "data": {
      "image/png": "[encoded data removed]",
      "text/plain": [
       "<Figure size 640x480 with 1 Axes>"
      ]
     },
     "metadata": {},
     "output_type": "display_data"
    }
   ],
   "source": [
    "# CLASS DISTRIBUTION CHECK\n",
    "from collections import Counter\n",
    "import matplotlib.pyplot as plt\n",
    "\n",
    "counts = Counter([label for _, label in train_dataset.samples])\n",
    "plt.bar(range(len(counts)), counts.values())\n",
    "plt.xticks(range(len(counts)), list(train_dataset.classes), rotation=90)\n",
    "plt.title(\"Class Distribution (Train)\")\n",
    "plt.show()"
   ]
  },
  {
   "cell_type": "markdown",
   "id": "ba7e9467",
   "metadata": {},
   "source": [
    "# Training"
   ]
  },
  {
   "cell_type": "code",
   "execution_count": 9,
   "id": "f345359b",
   "metadata": {},
   "outputs": [
    {
     "name": "stdout",
     "output_type": "stream",
     "text": [
      "Using device: cpu\n"
     ]
    },
    {
     "name": "stderr",
     "output_type": "stream",
     "text": [
      "Epoch 1/10 [Train]:   0%|          | 0/130 [04:51<?, ?it/s]\n"
     ]
    },
    {
     "ename": "TimeoutError",
     "evalue": "Caught TimeoutError in DataLoader worker process 0.\nOriginal Traceback (most recent call last):\n  File \"/Users/aziz/Documents/GitHub/SIH25005-lmage-based-Animal-Type-Classification-for-cattle-and-buffaloes/.venv/lib/python3.12/site-packages/torch/utils/data/_utils/worker.py\", line 349, in _worker_loop\n    data = fetcher.fetch(index)  # type: ignore[possibly-undefined]\n           ^^^^^^^^^^^^^^^^^^^^\n  File \"/Users/aziz/Documents/GitHub/SIH25005-lmage-based-Animal-Type-Classification-for-cattle-and-buffaloes/.venv/lib/python3.12/site-packages/torch/utils/data/_utils/fetch.py\", line 52, in fetch\n    data = [self.dataset[idx] for idx in possibly_batched_index]\n            ~~~~~~~~~~~~^^^^^\n  File \"/Users/aziz/Documents/GitHub/SIH25005-lmage-based-Animal-Type-Classification-for-cattle-and-buffaloes/.venv/lib/python3.12/site-packages/torchvision/datasets/folder.py\", line 245, in __getitem__\n    sample = self.loader(path)\n             ^^^^^^^^^^^^^^^^^\n  File \"/Users/aziz/Documents/GitHub/SIH25005-lmage-based-Animal-Type-Classification-for-cattle-and-buffaloes/.venv/lib/python3.12/site-packages/torchvision/datasets/folder.py\", line 284, in default_loader\n    return pil_loader(path)\n           ^^^^^^^^^^^^^^^^\n  File \"/Users/aziz/Documents/GitHub/SIH25005-lmage-based-Animal-Type-Classification-for-cattle-and-buffaloes/.venv/lib/python3.12/site-packages/torchvision/datasets/folder.py\", line 263, in pil_loader\n    img = Image.open(f)\n          ^^^^^^^^^^^^^\n  File \"/Users/aziz/Documents/GitHub/SIH25005-lmage-based-Animal-Type-Classification-for-cattle-and-buffaloes/.venv/lib/python3.12/site-packages/PIL/Image.py\", line 3524, in open\n    prefix = fp.read(16)\n             ^^^^^^^^^^^\nTimeoutError: [Errno 60] Operation timed out\n",
     "output_type": "error",
     "traceback": [
      "\u001b[31m---------------------------------------------------------------------------\u001b[39m",
      "\u001b[31mTimeoutError\u001b[39m                              Traceback (most recent call last)",
      "\u001b[36mCell\u001b[39m\u001b[36m \u001b[39m\u001b[32mIn[9]\u001b[39m\u001b[32m, line 90\u001b[39m\n\u001b[32m     86\u001b[39m     \u001b[38;5;28;01mreturn\u001b[39;00m model, history\n\u001b[32m     89\u001b[39m \u001b[38;5;66;03m# TRAIN\u001b[39;00m\n\u001b[32m---> \u001b[39m\u001b[32m90\u001b[39m model, history = \u001b[43mtrain_model\u001b[49m\u001b[43m(\u001b[49m\u001b[43mmodel\u001b[49m\u001b[43m,\u001b[49m\u001b[43m \u001b[49m\u001b[43mtrain_loader\u001b[49m\u001b[43m,\u001b[49m\u001b[43m \u001b[49m\u001b[43mval_loader\u001b[49m\u001b[43m,\u001b[49m\u001b[43m \u001b[49m\u001b[43mcriterion\u001b[49m\u001b[43m,\u001b[49m\u001b[43m \u001b[49m\u001b[43moptimizer\u001b[49m\u001b[43m,\u001b[49m\u001b[43m \u001b[49m\u001b[43mnum_epochs\u001b[49m\u001b[43m=\u001b[49m\u001b[32;43m10\u001b[39;49m\u001b[43m)\u001b[49m\n\u001b[32m     93\u001b[39m \u001b[38;5;66;03m# TEST EVALUATION\u001b[39;00m\n\u001b[32m     94\u001b[39m \u001b[38;5;28;01mdef\u001b[39;00m\u001b[38;5;250m \u001b[39m\u001b[34mevaluate_model\u001b[39m(model, test_loader):\n",
      "\u001b[36mCell\u001b[39m\u001b[36m \u001b[39m\u001b[32mIn[9]\u001b[39m\u001b[32m, line 38\u001b[39m, in \u001b[36mtrain_model\u001b[39m\u001b[34m(model, train_loader, val_loader, criterion, optimizer, num_epochs)\u001b[39m\n\u001b[32m     35\u001b[39m model.train()\n\u001b[32m     36\u001b[39m running_loss, running_corrects = \u001b[32m0.0\u001b[39m, \u001b[32m0\u001b[39m\n\u001b[32m---> \u001b[39m\u001b[32m38\u001b[39m \u001b[43m\u001b[49m\u001b[38;5;28;43;01mfor\u001b[39;49;00m\u001b[43m \u001b[49m\u001b[43minputs\u001b[49m\u001b[43m,\u001b[49m\u001b[43m \u001b[49m\u001b[43mlabels\u001b[49m\u001b[43m \u001b[49m\u001b[38;5;129;43;01min\u001b[39;49;00m\u001b[43m \u001b[49m\u001b[43mtqdm\u001b[49m\u001b[43m(\u001b[49m\u001b[43mtrain_loader\u001b[49m\u001b[43m,\u001b[49m\u001b[43m \u001b[49m\u001b[43mdesc\u001b[49m\u001b[43m=\u001b[49m\u001b[33;43mf\u001b[39;49m\u001b[33;43m\"\u001b[39;49m\u001b[33;43mEpoch \u001b[39;49m\u001b[38;5;132;43;01m{\u001b[39;49;00m\u001b[43mepoch\u001b[49m\u001b[43m+\u001b[49m\u001b[32;43m1\u001b[39;49m\u001b[38;5;132;43;01m}\u001b[39;49;00m\u001b[33;43m/\u001b[39;49m\u001b[38;5;132;43;01m{\u001b[39;49;00m\u001b[43mnum_epochs\u001b[49m\u001b[38;5;132;43;01m}\u001b[39;49;00m\u001b[33;43m [Train]\u001b[39;49m\u001b[33;43m\"\u001b[39;49m\u001b[43m)\u001b[49m\u001b[43m:\u001b[49m\n\u001b[32m     39\u001b[39m \u001b[43m    \u001b[49m\u001b[43minputs\u001b[49m\u001b[43m,\u001b[49m\u001b[43m \u001b[49m\u001b[43mlabels\u001b[49m\u001b[43m \u001b[49m\u001b[43m=\u001b[49m\u001b[43m \u001b[49m\u001b[43minputs\u001b[49m\u001b[43m.\u001b[49m\u001b[43mto\u001b[49m\u001b[43m(\u001b[49m\u001b[43mdevice\u001b[49m\u001b[43m)\u001b[49m\u001b[43m,\u001b[49m\u001b[43m \u001b[49m\u001b[43mlabels\u001b[49m\u001b[43m.\u001b[49m\u001b[43mto\u001b[49m\u001b[43m(\u001b[49m\u001b[43mdevice\u001b[49m\u001b[43m)\u001b[49m\n\u001b[32m     41\u001b[39m \u001b[43m    \u001b[49m\u001b[43moptimizer\u001b[49m\u001b[43m.\u001b[49m\u001b[43mzero_grad\u001b[49m\u001b[43m(\u001b[49m\u001b[43m)\u001b[49m\n",
      "\u001b[36mFile \u001b[39m\u001b[32m~/Documents/GitHub/SIH25005-lmage-based-Animal-Type-Classification-for-cattle-and-buffaloes/.venv/lib/python3.12/site-packages/tqdm/std.py:1181\u001b[39m, in \u001b[36mtqdm.__iter__\u001b[39m\u001b[34m(self)\u001b[39m\n\u001b[32m   1178\u001b[39m time = \u001b[38;5;28mself\u001b[39m._time\n\u001b[32m   1180\u001b[39m \u001b[38;5;28;01mtry\u001b[39;00m:\n\u001b[32m-> \u001b[39m\u001b[32m1181\u001b[39m \u001b[43m    \u001b[49m\u001b[38;5;28;43;01mfor\u001b[39;49;00m\u001b[43m \u001b[49m\u001b[43mobj\u001b[49m\u001b[43m \u001b[49m\u001b[38;5;129;43;01min\u001b[39;49;00m\u001b[43m \u001b[49m\u001b[43miterable\u001b[49m\u001b[43m:\u001b[49m\n\u001b[32m   1182\u001b[39m \u001b[43m        \u001b[49m\u001b[38;5;28;43;01myield\u001b[39;49;00m\u001b[43m \u001b[49m\u001b[43mobj\u001b[49m\n\u001b[32m   1183\u001b[39m \u001b[43m        \u001b[49m\u001b[38;5;66;43;03m# Update and possibly print the progressbar.\u001b[39;49;00m\n\u001b[32m   1184\u001b[39m \u001b[43m        \u001b[49m\u001b[38;5;66;43;03m# Note: does not call self.update(1) for speed optimisation.\u001b[39;49;00m\n",
      "\u001b[36mFile \u001b[39m\u001b[32m~/Documents/GitHub/SIH25005-lmage-based-Animal-Type-Classification-for-cattle-and-buffaloes/.venv/lib/python3.12/site-packages/torch/utils/data/dataloader.py:732\u001b[39m, in \u001b[36m_BaseDataLoaderIter.__next__\u001b[39m\u001b[34m(self)\u001b[39m\n\u001b[32m    729\u001b[39m \u001b[38;5;28;01mif\u001b[39;00m \u001b[38;5;28mself\u001b[39m._sampler_iter \u001b[38;5;129;01mis\u001b[39;00m \u001b[38;5;28;01mNone\u001b[39;00m:\n\u001b[32m    730\u001b[39m     \u001b[38;5;66;03m# TODO(https://github.com/pytorch/pytorch/issues/76750)\u001b[39;00m\n\u001b[32m    731\u001b[39m     \u001b[38;5;28mself\u001b[39m._reset()  \u001b[38;5;66;03m# type: ignore[call-arg]\u001b[39;00m\n\u001b[32m--> \u001b[39m\u001b[32m732\u001b[39m data = \u001b[38;5;28;43mself\u001b[39;49m\u001b[43m.\u001b[49m\u001b[43m_next_data\u001b[49m\u001b[43m(\u001b[49m\u001b[43m)\u001b[49m\n\u001b[32m    733\u001b[39m \u001b[38;5;28mself\u001b[39m._num_yielded += \u001b[32m1\u001b[39m\n\u001b[32m    734\u001b[39m \u001b[38;5;28;01mif\u001b[39;00m (\n\u001b[32m    735\u001b[39m     \u001b[38;5;28mself\u001b[39m._dataset_kind == _DatasetKind.Iterable\n\u001b[32m    736\u001b[39m     \u001b[38;5;129;01mand\u001b[39;00m \u001b[38;5;28mself\u001b[39m._IterableDataset_len_called \u001b[38;5;129;01mis\u001b[39;00m \u001b[38;5;129;01mnot\u001b[39;00m \u001b[38;5;28;01mNone\u001b[39;00m\n\u001b[32m    737\u001b[39m     \u001b[38;5;129;01mand\u001b[39;00m \u001b[38;5;28mself\u001b[39m._num_yielded > \u001b[38;5;28mself\u001b[39m._IterableDataset_len_called\n\u001b[32m    738\u001b[39m ):\n",
      "\u001b[36mFile \u001b[39m\u001b[32m~/Documents/GitHub/SIH25005-lmage-based-Animal-Type-Classification-for-cattle-and-buffaloes/.venv/lib/python3.12/site-packages/torch/utils/data/dataloader.py:1506\u001b[39m, in \u001b[36m_MultiProcessingDataLoaderIter._next_data\u001b[39m\u001b[34m(self)\u001b[39m\n\u001b[32m   1504\u001b[39m worker_id = \u001b[38;5;28mself\u001b[39m._task_info.pop(idx)[\u001b[32m0\u001b[39m]\n\u001b[32m   1505\u001b[39m \u001b[38;5;28mself\u001b[39m._rcvd_idx += \u001b[32m1\u001b[39m\n\u001b[32m-> \u001b[39m\u001b[32m1506\u001b[39m \u001b[38;5;28;01mreturn\u001b[39;00m \u001b[38;5;28;43mself\u001b[39;49m\u001b[43m.\u001b[49m\u001b[43m_process_data\u001b[49m\u001b[43m(\u001b[49m\u001b[43mdata\u001b[49m\u001b[43m,\u001b[49m\u001b[43m \u001b[49m\u001b[43mworker_id\u001b[49m\u001b[43m)\u001b[49m\n",
      "\u001b[36mFile \u001b[39m\u001b[32m~/Documents/GitHub/SIH25005-lmage-based-Animal-Type-Classification-for-cattle-and-buffaloes/.venv/lib/python3.12/site-packages/torch/utils/data/dataloader.py:1541\u001b[39m, in \u001b[36m_MultiProcessingDataLoaderIter._process_data\u001b[39m\u001b[34m(self, data, worker_idx)\u001b[39m\n\u001b[32m   1539\u001b[39m \u001b[38;5;28mself\u001b[39m._try_put_index()\n\u001b[32m   1540\u001b[39m \u001b[38;5;28;01mif\u001b[39;00m \u001b[38;5;28misinstance\u001b[39m(data, ExceptionWrapper):\n\u001b[32m-> \u001b[39m\u001b[32m1541\u001b[39m     \u001b[43mdata\u001b[49m\u001b[43m.\u001b[49m\u001b[43mreraise\u001b[49m\u001b[43m(\u001b[49m\u001b[43m)\u001b[49m\n\u001b[32m   1542\u001b[39m \u001b[38;5;28;01mreturn\u001b[39;00m data\n",
      "\u001b[36mFile \u001b[39m\u001b[32m~/Documents/GitHub/SIH25005-lmage-based-Animal-Type-Classification-for-cattle-and-buffaloes/.venv/lib/python3.12/site-packages/torch/_utils.py:769\u001b[39m, in \u001b[36mExceptionWrapper.reraise\u001b[39m\u001b[34m(self)\u001b[39m\n\u001b[32m    765\u001b[39m \u001b[38;5;28;01mexcept\u001b[39;00m \u001b[38;5;167;01mException\u001b[39;00m:\n\u001b[32m    766\u001b[39m     \u001b[38;5;66;03m# If the exception takes multiple arguments or otherwise can't\u001b[39;00m\n\u001b[32m    767\u001b[39m     \u001b[38;5;66;03m# be constructed, don't try to instantiate since we don't know how to\u001b[39;00m\n\u001b[32m    768\u001b[39m     \u001b[38;5;28;01mraise\u001b[39;00m \u001b[38;5;167;01mRuntimeError\u001b[39;00m(msg) \u001b[38;5;28;01mfrom\u001b[39;00m\u001b[38;5;250m \u001b[39m\u001b[38;5;28;01mNone\u001b[39;00m\n\u001b[32m--> \u001b[39m\u001b[32m769\u001b[39m \u001b[38;5;28;01mraise\u001b[39;00m exception\n",
      "\u001b[31mTimeoutError\u001b[39m: Caught TimeoutError in DataLoader worker process 0.\nOriginal Traceback (most recent call last):\n  File \"/Users/aziz/Documents/GitHub/SIH25005-lmage-based-Animal-Type-Classification-for-cattle-and-buffaloes/.venv/lib/python3.12/site-packages/torch/utils/data/_utils/worker.py\", line 349, in _worker_loop\n    data = fetcher.fetch(index)  # type: ignore[possibly-undefined]\n           ^^^^^^^^^^^^^^^^^^^^\n  File \"/Users/aziz/Documents/GitHub/SIH25005-lmage-based-Animal-Type-Classification-for-cattle-and-buffaloes/.venv/lib/python3.12/site-packages/torch/utils/data/_utils/fetch.py\", line 52, in fetch\n    data = [self.dataset[idx] for idx in possibly_batched_index]\n            ~~~~~~~~~~~~^^^^^\n  File \"/Users/aziz/Documents/GitHub/SIH25005-lmage-based-Animal-Type-Classification-for-cattle-and-buffaloes/.venv/lib/python3.12/site-packages/torchvision/datasets/folder.py\", line 245, in __getitem__\n    sample = self.loader(path)\n             ^^^^^^^^^^^^^^^^^\n  File \"/Users/aziz/Documents/GitHub/SIH25005-lmage-based-Animal-Type-Classification-for-cattle-and-buffaloes/.venv/lib/python3.12/site-packages/torchvision/datasets/folder.py\", line 284, in default_loader\n    return pil_loader(path)\n           ^^^^^^^^^^^^^^^^\n  File \"/Users/aziz/Documents/GitHub/SIH25005-lmage-based-Animal-Type-Classification-for-cattle-and-buffaloes/.venv/lib/python3.12/site-packages/torchvision/datasets/folder.py\", line 263, in pil_loader\n    img = Image.open(f)\n          ^^^^^^^^^^^^^\n  File \"/Users/aziz/Documents/GitHub/SIH25005-lmage-based-Animal-Type-Classification-for-cattle-and-buffaloes/.venv/lib/python3.12/site-packages/PIL/Image.py\", line 3524, in open\n    prefix = fp.read(16)\n             ^^^^^^^^^^^\nTimeoutError: [Errno 60] Operation timed out\n"
     ]
    }
   ],
   "source": [
    "import torch\n",
    "import torch.nn as nn\n",
    "import torch.optim as optim\n",
    "from torchvision import models\n",
    "from tqdm import tqdm\n",
    "from torchvision.models import resnet18, ResNet18_Weights\n",
    "\n",
    "weights = ResNet18_Weights.IMAGENET1K_V1\n",
    "  # instead of pretrained=True\n",
    "\n",
    "# DEVICE SETUP\n",
    "device = torch.device(\"cuda\" if torch.cuda.is_available() else \"cpu\")\n",
    "print(f\"Using device: {device}\")\n",
    "\n",
    "# MODEL SETUP (Transfer Learning - ResNet18)\n",
    "num_classes = len(train_dataset.classes)\n",
    "model = resnet18(weights=weights) \n",
    "\n",
    "# Replace final fully-connected layer for our num_classes\n",
    "model.fc = nn.Linear(model.fc.in_features, num_classes)\n",
    "\n",
    "model = model.to(device)\n",
    "\n",
    "# LOSS & OPTIMIZER\n",
    "criterion = nn.CrossEntropyLoss()\n",
    "optimizer = optim.Adam(model.parameters(), lr=1e-4)\n",
    "\n",
    "\n",
    "# TRAINING FUNCTION\n",
    "def train_model(model, train_loader, val_loader, criterion, optimizer, num_epochs=10):\n",
    "    best_val_acc = 0.0\n",
    "    history = {\"train_loss\": [], \"val_loss\": [], \"train_acc\": [], \"val_acc\": []}\n",
    "\n",
    "    for epoch in range(num_epochs):\n",
    "        model.train()\n",
    "        running_loss, running_corrects = 0.0, 0\n",
    "\n",
    "        for inputs, labels in tqdm(train_loader, desc=f\"Epoch {epoch+1}/{num_epochs} [Train]\"):\n",
    "            inputs, labels = inputs.to(device), labels.to(device)\n",
    "\n",
    "            optimizer.zero_grad()\n",
    "            outputs = model(inputs)\n",
    "            _, preds = torch.max(outputs, 1)\n",
    "            loss = criterion(outputs, labels)\n",
    "\n",
    "            loss.backward()\n",
    "            optimizer.step()\n",
    "\n",
    "            running_loss += loss.item() * inputs.size(0)\n",
    "            running_corrects += torch.sum(preds == labels.data)\n",
    "\n",
    "        epoch_loss = running_loss / len(train_loader.dataset)\n",
    "        epoch_acc = running_corrects.double() / len(train_loader.dataset)\n",
    "        history[\"train_loss\"].append(epoch_loss)\n",
    "        history[\"train_acc\"].append(epoch_acc.item())\n",
    "\n",
    "        # VALIDATION\n",
    "        model.eval()\n",
    "        val_loss, val_corrects = 0.0, 0\n",
    "        with torch.no_grad():\n",
    "            for inputs, labels in tqdm(val_loader, desc=f\"Epoch {epoch+1}/{num_epochs} [Val]\"):\n",
    "                inputs, labels = inputs.to(device), labels.to(device)\n",
    "\n",
    "                outputs = model(inputs)\n",
    "                _, preds = torch.max(outputs, 1)\n",
    "                loss = criterion(outputs, labels)\n",
    "\n",
    "                val_loss += loss.item() * inputs.size(0)\n",
    "                val_corrects += torch.sum(preds == labels.data)\n",
    "\n",
    "        val_loss = val_loss / len(val_loader.dataset)\n",
    "        val_acc = val_corrects.double() / len(val_loader.dataset)\n",
    "        history[\"val_loss\"].append(val_loss)\n",
    "        history[\"val_acc\"].append(val_acc.item())\n",
    "\n",
    "        print(f\"Epoch {epoch+1}/{num_epochs}: \"\n",
    "              f\"Train Loss {epoch_loss:.4f}, Train Acc {epoch_acc:.4f}, \"\n",
    "              f\"Val Loss {val_loss:.4f}, Val Acc {val_acc:.4f}\")\n",
    "\n",
    "        # Save best model\n",
    "        if val_acc > best_val_acc:\n",
    "            best_val_acc = val_acc\n",
    "            torch.save(model.state_dict(), \"best_model.pth\")\n",
    "            print(\"Best model saved!\")\n",
    "\n",
    "    return model, history\n",
    "\n",
    "\n",
    "# TRAIN\n",
    "model, history = train_model(model, train_loader, val_loader, criterion, optimizer, num_epochs=10)\n",
    "\n",
    "\n",
    "# TEST EVALUATION\n",
    "def evaluate_model(model, test_loader):\n",
    "    model.eval()\n",
    "    test_corrects = 0\n",
    "    with torch.no_grad():\n",
    "        for inputs, labels in tqdm(test_loader, desc=\"Testing\"):\n",
    "            inputs, labels = inputs.to(device), labels.to(device)\n",
    "            outputs = model(inputs)\n",
    "            _, preds = torch.max(outputs, 1)\n",
    "            test_corrects += torch.sum(preds == labels.data)\n",
    "\n",
    "    test_acc = test_corrects.double() / len(test_loader.dataset)\n",
    "    print(f\"Test Accuracy: {test_acc:.4f}\")\n",
    "\n",
    "\n",
    "# LOAD BEST MODEL AND TEST\n",
    "model.load_state_dict(torch.load(\"best_model.pth\"))\n",
    "evaluate_model(model, test_loader)\n",
    "\n",
    "\n",
    "plt.figure(figsize=(8,5))\n",
    "plt.plot(history[\"train_acc\"], label=\"Train Accuracy\", marker=\"o\")\n",
    "plt.plot(history[\"val_acc\"], label=\"Val Accuracy\", marker=\"o\")\n",
    "plt.title(\"Train vs Val Accuracy\")\n",
    "plt.xlabel(\"Epoch\")\n",
    "plt.ylabel(\"Accuracy\")\n",
    "plt.legend()\n",
    "plt.grid(True)\n",
    "plt.show()\n"
   ]
  },
  {
   "cell_type": "markdown",
   "id": "e1613815",
   "metadata": {},
   "source": []
  }
 ],
 "metadata": {
  "kernelspec": {
   "display_name": ".venv (3.12.0)",
   "language": "python",
   "name": "python3"
  },
  "language_info": {
   "codemirror_mode": {
    "name": "ipython",
    "version": 3
   },
   "file_extension": ".py",
   "mimetype": "text/x-python",
   "name": "python",
   "nbconvert_exporter": "python",
   "pygments_lexer": "ipython3",
   "version": "3.12.0"
  }
 },
 "nbformat": 4,
 "nbformat_minor": 5
}
